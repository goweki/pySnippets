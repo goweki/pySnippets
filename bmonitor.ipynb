{
 "cells": [
  {
   "attachments": {},
   "cell_type": "markdown",
   "metadata": {},
   "source": [
    "Convert audio file to .wav format if necessary\n"
   ]
  },
  {
   "cell_type": "code",
   "execution_count": null,
   "metadata": {},
   "outputs": [],
   "source": [
    "import json\n",
    "import pandas\n",
    "\n",
    "excel_data_Enrol = pandas.read_excel('filename.xlsx', sheet_name='Enrolment')\n",
    "excel_data_Acad = pandas.read_excel('filename.xlsx', sheet_name='Academics')\n",
    "\n",
    "json_str_Enrol = excel_data_Enrol.to_json(orient='records')\n",
    "json_str_Acad = excel_data_Acad.to_json(orient='records')\n",
    "\n",
    "print('Enrolment Data to JSON:\\n', json_str_Enrol, '\\n\\n')\n",
    "print('Academic Data to JSON:\\n', json_str_Acad, '\\n\\n')\n",
    "\n",
    "data = {\"analytics\":[{\"enrolment\":json.loads(json_str_Enrol)},{\"academics\":json.loads(json_str_Acad)}]}\n",
    "json_data = json.dumps(data)\n",
    "# Write the data to a text file\n",
    "with open('output.txt', 'w') as f:\n",
    "        f.write(json_data)"
   ]
  },
  {
   "attachments": {},
   "cell_type": "markdown",
   "metadata": {},
   "source": [
    "Process generated .wav audio file and create fingerprint. Store in it fingerprints.txt\n"
   ]
  },
  {
   "cell_type": "code",
   "execution_count": null,
   "metadata": {},
   "outputs": [],
   "source": [
    "from typing import List\n",
    "from operator import xor\n",
    "\n",
    "import pickle\n",
    "import acoustid\n",
    "import chromaprint\n",
    "\n",
    "def get_fingerprint(filename: str) -> List[int]:\n",
    "    \"\"\"\n",
    "    Returns:\n",
    "        Returns a list of 32-bit integers () audio fingerprint. Two fingerprints can\n",
    "        be roughly compared by counting the number of\n",
    "        corresponding bits that are different from each other.\n",
    "    \"\"\"\n",
    "    _ , encoded = acoustid.fingerprint_file(filename)\n",
    "    fingerprint, _ = chromaprint.decode_fingerprint(\n",
    "        encoded\n",
    "    )\n",
    "    return fingerprint\n",
    "\n",
    "def fingerprint_distance(\n",
    "    f1: List[int],\n",
    "    f2: List[int],\n",
    "    fingerprint_len: int,\n",
    ") -> float:\n",
    "    \"\"\"\n",
    "    Returns a normalized distance between two fingerprints.\n",
    "\n",
    "    Args:\n",
    "        f1: The first fingerprint.\n",
    "\n",
    "        f2: The second fingerprint.\n",
    "\n",
    "        fingerprint_len: Only compare the first `fingerprint_len`\n",
    "            integers in each fingerprint. This is useful\n",
    "            when comparing audio samples of a different length.\n",
    "\n",
    "    Returns:\n",
    "        Returns a number between 0.0 and 1.0 representing\n",
    "        the distance between two fingerprints. This value\n",
    "        represents distance as like a percentage.\n",
    "    \"\"\"\n",
    "    max_hamming_weight = 32 * fingerprint_len\n",
    "    hamming_weight = sum(\n",
    "        sum(\n",
    "            c == \"1\"\n",
    "            for c in bin(xor(f1[i], f2[i]))\n",
    "        )\n",
    "        for i in range(fingerprint_len)\n",
    "    )\n",
    "    return hamming_weight / max_hamming_weight\n",
    "\n",
    "# path to the audio file\n",
    "audio_file_path = 'audio.wav'\n",
    "\n",
    "# Generate fingerprint\n",
    "fingerprint = get_fingerprint(audio_file_path)\n",
    "\n",
    "# Store the fingerprint in a dictionary\n",
    "fingerprint_dict = {\n",
    "    'Artist': 'Sanchez',\n",
    "    'Name': 'Mama (African Pride)',\n",
    "    'fingerprint': fingerprint,\n",
    "}\n",
    "\n",
    "# Write the fingerprint dictionary to the signatures file\n",
    "with open('signatures.txt', 'wb') as f:\n",
    "    pickle.dump(fingerprint_dict, f)\n"
   ]
  },
  {
   "attachments": {},
   "cell_type": "markdown",
   "metadata": {},
   "source": [
    "Embed watermark in the audio file, store the new audio as audio_watermarked.wav. Update signatures.txt with the watermark data for that specific audio entry."
   ]
  },
  {
   "cell_type": "code",
   "execution_count": null,
   "metadata": {},
   "outputs": [],
   "source": []
  }
 ],
 "metadata": {
  "kernelspec": {
   "display_name": "Python 3",
   "language": "python",
   "name": "python3"
  },
  "language_info": {
   "codemirror_mode": {
    "name": "ipython",
    "version": 3
   },
   "file_extension": ".py",
   "mimetype": "text/x-python",
   "name": "python",
   "nbconvert_exporter": "python",
   "pygments_lexer": "ipython3",
   "version": "3.8.10"
  },
  "orig_nbformat": 4
 },
 "nbformat": 4,
 "nbformat_minor": 2
}
