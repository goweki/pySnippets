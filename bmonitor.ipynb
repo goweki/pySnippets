{
 "cells": [
  {
   "attachments": {},
   "cell_type": "markdown",
   "metadata": {},
   "source": [
    "Problem: Data is in excel and you need json objects\n",
    "\n",
    "Solution: The below code converts Excel rows to a JSON string using python pandas lib"
   ]
  },
  {
   "cell_type": "code",
   "execution_count": null,
   "metadata": {},
   "outputs": [],
   "source": [
    "import json\n",
    "import pandas\n",
    "\n",
    "excel_data_Enrol = pandas.read_excel('filename.xlsx', sheet_name='Enrolment')\n",
    "excel_data_Acad = pandas.read_excel('filename.xlsx', sheet_name='Academics')\n",
    "\n",
    "json_str_Enrol = excel_data_Enrol.to_json(orient='records')\n",
    "json_str_Acad = excel_data_Acad.to_json(orient='records')\n",
    "\n",
    "print('Enrolment Data to JSON:\\n', json_str_Enrol, '\\n\\n')\n",
    "print('Academic Data to JSON:\\n', json_str_Acad, '\\n\\n')\n",
    "\n",
    "data = {\"analytics\":[{\"enrolment\":json.loads(json_str_Enrol)},{\"academics\":json.loads(json_str_Acad)}]}\n",
    "json_data = json.dumps(data)\n",
    "# Write the data to a text file\n",
    "with open('output.txt', 'w') as f:\n",
    "        f.write(json_data)"
   ]
  }
 ],
 "metadata": {
  "kernelspec": {
   "display_name": "Python 3",
   "language": "python",
   "name": "python3"
  },
  "language_info": {
   "codemirror_mode": {
    "name": "ipython",
    "version": 3
   },
   "file_extension": ".py",
   "mimetype": "text/x-python",
   "name": "python",
   "nbconvert_exporter": "python",
   "pygments_lexer": "ipython3",
   "version": "3.8.10"
  },
  "orig_nbformat": 4
 },
 "nbformat": 4,
 "nbformat_minor": 2
}
