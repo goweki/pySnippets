{
 "cells": [
  {
   "cell_type": "markdown",
   "metadata": {},
   "source": [
    "repo: https://github.com/yt-dlp/yt-dlp\n",
    "view options"
   ]
  },
  {
   "cell_type": "code",
   "execution_count": null,
   "metadata": {},
   "outputs": [],
   "source": [
    "import yt_dlp\n",
    "help(yt_dlp.postprocessor)"
   ]
  },
  {
   "cell_type": "markdown",
   "metadata": {},
   "source": [
    "Download video and extract audio (best quality). Delete video"
   ]
  },
  {
   "cell_type": "code",
   "execution_count": 1,
   "metadata": {},
   "outputs": [
    {
     "name": "stdout",
     "output_type": "stream",
     "text": [
      "[youtube] Extracting URL: https://www.youtube.com/watch?v=r0c42AhOPW8\n",
      "[youtube] r0c42AhOPW8: Downloading webpage\n",
      "[youtube] r0c42AhOPW8: Downloading ios player API JSON\n",
      "[youtube] r0c42AhOPW8: Downloading android player API JSON\n",
      "[youtube] r0c42AhOPW8: Downloading m3u8 information\n",
      "[info] r0c42AhOPW8: Downloading 1 format(s): 251\n",
      "[download] Destination: Aṣa - ODO [r0c42AhOPW8].webm\n",
      "[download] 100% of    3.10MiB in 00:00:02 at 1.16MiB/s   \n",
      "[ExtractAudio] Destination: Aṣa - ODO [r0c42AhOPW8].mp3\n",
      "Deleting original file Aṣa - ODO [r0c42AhOPW8].webm (pass -k to keep)\n"
     ]
    }
   ],
   "source": [
    "import yt_dlp\n",
    "\n",
    "URLS = ['https://www.youtube.com/watch?v=r0c42AhOPW8']\n",
    "\n",
    "ydl_opts = {\n",
    "    'format': 'mp3/bestaudio/best',\n",
    "    # ℹ️ See help(yt_dlp.postprocessor) for a list of available Postprocessors and their arguments\n",
    "    'postprocessors': [{  # Extract audio using ffmpeg\n",
    "        'key': 'FFmpegExtractAudio',\n",
    "        'preferredcodec': 'mp3',\n",
    "    }]\n",
    "}\n",
    "\n",
    "with yt_dlp.YoutubeDL(ydl_opts) as ydl:\n",
    "    error_code = ydl.download(URLS)"
   ]
  },
  {
   "cell_type": "markdown",
   "metadata": {},
   "source": []
  }
 ],
 "metadata": {
  "kernelspec": {
   "display_name": ".venv",
   "language": "python",
   "name": "python3"
  },
  "language_info": {
   "codemirror_mode": {
    "name": "ipython",
    "version": 3
   },
   "file_extension": ".py",
   "mimetype": "text/x-python",
   "name": "python",
   "nbconvert_exporter": "python",
   "pygments_lexer": "ipython3",
   "version": "3.8.10"
  }
 },
 "nbformat": 4,
 "nbformat_minor": 2
}
